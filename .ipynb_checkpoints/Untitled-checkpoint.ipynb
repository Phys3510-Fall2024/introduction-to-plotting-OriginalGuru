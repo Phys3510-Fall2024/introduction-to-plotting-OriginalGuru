{
 "cells": [
  {
   "cell_type": "markdown",
   "id": "ce70aa93-2968-42ef-a842-c4fbdd91a2d4",
   "metadata": {},
   "source": [
    "## Interactive plotting with `ipywidgets`"
   ]
  },
  {
   "cell_type": "code",
   "execution_count": 1,
   "id": "ecd3788d-295f-47f6-b292-eed0a6133430",
   "metadata": {},
   "outputs": [],
   "source": [
    "# import numpy, matplotlib, and ipywidgets\n",
    "import numpy as np\n",
    "import matplotlib.pyplot as plt\n",
    "from ipywidgets import interact, FloatSlider, IntSlider"
   ]
  },
  {
   "cell_type": "code",
   "execution_count": 2,
   "id": "a4ee6c0a-bb59-43a9-9a04-8b05699b164f",
   "metadata": {},
   "outputs": [
    {
     "data": {
      "text/plain": [
       "0.5"
      ]
     },
     "execution_count": 2,
     "metadata": {},
     "output_type": "execute_result"
    }
   ],
   "source": [
    "# define potential energy for two coupled oscillator; linear-quadratic coupling + external field\n",
    "def potential_energy(Q1, Q2, K1=1.0, K2=1.0, C=0.0, E=0.0):\n",
    "    return 0.5*K1*Q1**2 + 0.5*K2*Q2**2 + C*Q2*Q1**2 + E*Q1\n",
    "\n",
    "# test basic usage\n",
    "potential_energy(1, 0)"
   ]
  },
  {
   "cell_type": "code",
   "execution_count": 12,
   "id": "33aba6d0-1e71-435f-a84c-6446655b9fef",
   "metadata": {},
   "outputs": [
    {
     "data": {
      "text/plain": [
       "array([[1. , 0.5, 1. ],\n",
       "       [0.5, 0. , 0.5],\n",
       "       [1. , 0.5, 1. ]])"
      ]
     },
     "execution_count": 12,
     "metadata": {},
     "output_type": "execute_result"
    }
   ],
   "source": [
    "# define meshes for plotting\n",
    "n_points = 3\n",
    "q1 = np.linspace(-1,1,n_points)\n",
    "q2 = q1 # same mesh in x and y\n",
    "Q1, Q2 = np.meshgrid(q1, q2)\n",
    "\n",
    "# test meshgrid use with potential energy function\n",
    "potential_energy(Q1, Q2)"
   ]
  },
  {
   "cell_type": "code",
   "execution_count": 21,
   "id": "43a39007-25a9-4600-8bc9-9550c0b5e3ca",
   "metadata": {},
   "outputs": [
    {
     "data": {
      "image/png": "[encoded data removed]",
      "text/plain": [
       "<Figure size 400x300 with 2 Axes>"
      ]
     },
     "metadata": {},
     "output_type": "display_data"
    }
   ],
   "source": [
    "# define plotting function\n",
    "def plot_potential_energy(K1=1.0, K2=1.0, C=0.0, E=0.0, levels=10):\n",
    "    # define meshgrid\n",
    "    n_points = 100\n",
    "    q1 = np.linspace(-1,1,n_points)\n",
    "    q2 = q1 # same mesh in x and y\n",
    "    Q1, Q2 = np.meshgrid(q1, q2)\n",
    "    \n",
    "    # plotting\n",
    "    plt.figure(figsize=(4,3))\n",
    "    plt.contourf(Q1, Q2, potential_energy(Q1, Q2, K1, K2, C, E),\n",
    "                 levels = levels,\n",
    "                 cmap='plasma'\n",
    "                )\n",
    "    plt.colorbar(label='Energy (arbitrary units)')\n",
    "    plt.xlabel('$Q_1$ (arbitrary units)')\n",
    "    plt.ylabel('$Q_2$ (arbitrary units)')\n",
    "    plt.xlim([-1,1])\n",
    "    plt.ylim([-1,1])\n",
    "    plt.show()\n",
    "\n",
    "plot_potential_energy()"
   ]
  },
  {
   "cell_type": "code",
   "execution_count": 19,
   "id": "b5284edb-ffdf-48f2-a478-e9970321b796",
   "metadata": {},
   "outputs": [
    {
     "data": {
      "application/vnd.jupyter.widget-view+json": {
       "model_id": "e3589fd03cff42a29a8b76d73b0cdc34",
       "version_major": 2,
       "version_minor": 0
      },
      "text/plain": [
       "interactive(children=(FloatSlider(value=1.0, description='K1', max=1.0, min=-1.0), FloatSlider(value=1.0, desc…"
      ]
     },
     "metadata": {},
     "output_type": "display_data"
    },
    {
     "data": {
      "text/plain": [
       "<function __main__.plot_potential_energy(K1=1.0, K2=1.0, C=0.0, E=0.0, levels=10)>"
      ]
     },
     "execution_count": 19,
     "metadata": {},
     "output_type": "execute_result"
    }
   ],
   "source": [
    "# create interactive environment\n",
    "interact(plot_potential_energy,\n",
    "        K1=FloatSlider(min=-1, max=1, step=0.1, value=1, description='K1'),\n",
    "        K2=FloatSlider(min=-1, max=1, step=0.1, value=1, description='K2'),\n",
    "        C =FloatSlider(min=-1, max=1, step=0.1, value=0, description='C'),\n",
    "        E =FloatSlider(min=-1,max=1, step=0.1, value=0, description='E'),\n",
    "        levels =IntSlider(min=10, max=40, step=5, value=10, description='#contours'))"
   ]
  },
  {
   "cell_type": "code",
   "execution_count": null,
   "id": "f8572c35-1642-4e29-8f6b-fa40b0cf20ff",
   "metadata": {},
   "outputs": [],
   "source": []
  }
 ],
 "metadata": {
  "kernelspec": {
   "display_name": "Python 3 (ipykernel)",
   "language": "python",
   "name": "python3"
  },
  "language_info": {
   "codemirror_mode": {
    "name": "ipython",
    "version": 3
   },
   "file_extension": ".py",
   "mimetype": "text/x-python",
   "name": "python",
   "nbconvert_exporter": "python",
   "pygments_lexer": "ipython3",
   "version": "3.9.19"
  }
 },
 "nbformat": 4,
 "nbformat_minor": 5
}
